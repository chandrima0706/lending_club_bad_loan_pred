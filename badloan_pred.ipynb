{
 "cells": [
  {
   "cell_type": "markdown",
   "metadata": {},
   "source": [
    "# Bad Loan Prediction"
   ]
  },
  {
   "cell_type": "markdown",
   "metadata": {},
   "source": [
    "##### written by : Chandrima Chkrabarty (chakrabartychandrima91@gmail.com)"
   ]
  },
  {
   "cell_type": "markdown",
   "metadata": {},
   "source": [
    "### Objective-\n",
    "1. Find key parameters that impacts the prediction of 'bad loan' at the time of lending"
   ]
  },
  {
   "cell_type": "code",
   "execution_count": 138,
   "metadata": {},
   "outputs": [],
   "source": [
    "import matplotlib.pyplot as plt\n",
    "import pandas as pd\n",
    "import seaborn as sns\n",
    "from sklearn import metrics\n",
    "from sklearn import preprocessing\n",
    "from sklearn.linear_model import LogisticRegression\n",
    "from sklearn.model_selection import train_test_split\n",
    "from sklearn.preprocessing import LabelEncoder, MinMaxScaler\n",
    "pd.set_option('display.max_columns', None)"
   ]
  },
  {
   "cell_type": "markdown",
   "metadata": {},
   "source": [
    "#### Read The Dataset"
   ]
  },
  {
   "cell_type": "code",
   "execution_count": 2,
   "metadata": {},
   "outputs": [
    {
     "name": "stderr",
     "output_type": "stream",
     "text": [
      "C:\\Users\\IITM\\Anaconda3\\lib\\site-packages\\IPython\\core\\interactiveshell.py:3170: DtypeWarning: Columns (18,54) have mixed types.Specify dtype option on import or set low_memory=False.\n",
      "  interactivity=interactivity, compiler=compiler, result=result)\n"
     ]
    },
    {
     "data": {
      "text/html": [
       "<div>\n",
       "<style scoped>\n",
       "    .dataframe tbody tr th:only-of-type {\n",
       "        vertical-align: middle;\n",
       "    }\n",
       "\n",
       "    .dataframe tbody tr th {\n",
       "        vertical-align: top;\n",
       "    }\n",
       "\n",
       "    .dataframe thead th {\n",
       "        text-align: right;\n",
       "    }\n",
       "</style>\n",
       "<table border=\"1\" class=\"dataframe\">\n",
       "  <thead>\n",
       "    <tr style=\"text-align: right;\">\n",
       "      <th></th>\n",
       "      <th>id</th>\n",
       "      <th>member_id</th>\n",
       "      <th>loan_amnt</th>\n",
       "      <th>funded_amnt</th>\n",
       "      <th>funded_amnt_inv</th>\n",
       "      <th>term</th>\n",
       "      <th>int_rate</th>\n",
       "      <th>installment</th>\n",
       "      <th>grade</th>\n",
       "      <th>sub_grade</th>\n",
       "      <th>emp_title</th>\n",
       "      <th>emp_length</th>\n",
       "      <th>home_ownership</th>\n",
       "      <th>annual_inc</th>\n",
       "      <th>verification_status</th>\n",
       "      <th>issue_d</th>\n",
       "      <th>loan_status</th>\n",
       "      <th>pymnt_plan</th>\n",
       "      <th>desc</th>\n",
       "      <th>purpose</th>\n",
       "      <th>title</th>\n",
       "      <th>zip_code</th>\n",
       "      <th>addr_state</th>\n",
       "      <th>dti</th>\n",
       "      <th>delinq_2yrs</th>\n",
       "      <th>earliest_cr_line</th>\n",
       "      <th>inq_last_6mths</th>\n",
       "      <th>mths_since_last_delinq</th>\n",
       "      <th>mths_since_last_record</th>\n",
       "      <th>open_acc</th>\n",
       "      <th>pub_rec</th>\n",
       "      <th>revol_bal</th>\n",
       "      <th>revol_util</th>\n",
       "      <th>total_acc</th>\n",
       "      <th>initial_list_status</th>\n",
       "      <th>out_prncp</th>\n",
       "      <th>out_prncp_inv</th>\n",
       "      <th>total_pymnt</th>\n",
       "      <th>total_pymnt_inv</th>\n",
       "      <th>total_rec_prncp</th>\n",
       "      <th>total_rec_int</th>\n",
       "      <th>total_rec_late_fee</th>\n",
       "      <th>recoveries</th>\n",
       "      <th>collection_recovery_fee</th>\n",
       "      <th>last_pymnt_d</th>\n",
       "      <th>last_pymnt_amnt</th>\n",
       "      <th>next_pymnt_d</th>\n",
       "      <th>last_credit_pull_d</th>\n",
       "      <th>collections_12_mths_ex_med</th>\n",
       "      <th>mths_since_last_major_derog</th>\n",
       "      <th>policy_code</th>\n",
       "      <th>application_type</th>\n",
       "      <th>annual_inc_joint</th>\n",
       "      <th>dti_joint</th>\n",
       "      <th>verification_status_joint</th>\n",
       "      <th>acc_now_delinq</th>\n",
       "      <th>tot_coll_amt</th>\n",
       "      <th>tot_cur_bal</th>\n",
       "      <th>open_acc_6m</th>\n",
       "      <th>open_il_12m</th>\n",
       "      <th>open_il_24m</th>\n",
       "      <th>mths_since_rcnt_il</th>\n",
       "      <th>total_bal_il</th>\n",
       "      <th>il_util</th>\n",
       "      <th>open_rv_12m</th>\n",
       "      <th>open_rv_24m</th>\n",
       "      <th>max_bal_bc</th>\n",
       "      <th>all_util</th>\n",
       "      <th>total_rev_hi_lim</th>\n",
       "      <th>inq_fi</th>\n",
       "      <th>total_cu_tl</th>\n",
       "      <th>inq_last_12m</th>\n",
       "    </tr>\n",
       "  </thead>\n",
       "  <tbody>\n",
       "    <tr>\n",
       "      <th>0</th>\n",
       "      <td>112435993</td>\n",
       "      <td>NaN</td>\n",
       "      <td>2300</td>\n",
       "      <td>2300</td>\n",
       "      <td>2300.0</td>\n",
       "      <td>36 months</td>\n",
       "      <td>12.62</td>\n",
       "      <td>77.08</td>\n",
       "      <td>C</td>\n",
       "      <td>C1</td>\n",
       "      <td>NaN</td>\n",
       "      <td>NaN</td>\n",
       "      <td>OWN</td>\n",
       "      <td>10000.0</td>\n",
       "      <td>Not Verified</td>\n",
       "      <td>Jun-2017</td>\n",
       "      <td>Current</td>\n",
       "      <td>n</td>\n",
       "      <td>NaN</td>\n",
       "      <td>credit_card</td>\n",
       "      <td>Credit card refinancing</td>\n",
       "      <td>148xx</td>\n",
       "      <td>NY</td>\n",
       "      <td>21.61</td>\n",
       "      <td>0</td>\n",
       "      <td>Sep-1985</td>\n",
       "      <td>1.0</td>\n",
       "      <td>NaN</td>\n",
       "      <td>NaN</td>\n",
       "      <td>4</td>\n",
       "      <td>0</td>\n",
       "      <td>3911.0</td>\n",
       "      <td>55.1</td>\n",
       "      <td>6</td>\n",
       "      <td>w</td>\n",
       "      <td>2029.91</td>\n",
       "      <td>2029.91</td>\n",
       "      <td>382.99</td>\n",
       "      <td>382.99</td>\n",
       "      <td>270.09</td>\n",
       "      <td>112.90</td>\n",
       "      <td>0.0</td>\n",
       "      <td>0.0</td>\n",
       "      <td>0.0</td>\n",
       "      <td>Dec-2017</td>\n",
       "      <td>77.08</td>\n",
       "      <td>Jan-2018</td>\n",
       "      <td>Dec-2017</td>\n",
       "      <td>0</td>\n",
       "      <td>NaN</td>\n",
       "      <td>1</td>\n",
       "      <td>Individual</td>\n",
       "      <td>NaN</td>\n",
       "      <td>NaN</td>\n",
       "      <td>NaN</td>\n",
       "      <td>0</td>\n",
       "      <td>0.0</td>\n",
       "      <td>3911.0</td>\n",
       "      <td>0.0</td>\n",
       "      <td>0.0</td>\n",
       "      <td>0.0</td>\n",
       "      <td>NaN</td>\n",
       "      <td>0.0</td>\n",
       "      <td>NaN</td>\n",
       "      <td>1.0</td>\n",
       "      <td>2.0</td>\n",
       "      <td>2315.0</td>\n",
       "      <td>55.0</td>\n",
       "      <td>7100.0</td>\n",
       "      <td>1.0</td>\n",
       "      <td>0.0</td>\n",
       "      <td>2.0</td>\n",
       "    </tr>\n",
       "    <tr>\n",
       "      <th>1</th>\n",
       "      <td>112290210</td>\n",
       "      <td>NaN</td>\n",
       "      <td>16000</td>\n",
       "      <td>16000</td>\n",
       "      <td>16000.0</td>\n",
       "      <td>60 months</td>\n",
       "      <td>12.62</td>\n",
       "      <td>360.95</td>\n",
       "      <td>C</td>\n",
       "      <td>C1</td>\n",
       "      <td>teacher</td>\n",
       "      <td>10+ years</td>\n",
       "      <td>MORTGAGE</td>\n",
       "      <td>94000.0</td>\n",
       "      <td>Not Verified</td>\n",
       "      <td>Jun-2017</td>\n",
       "      <td>Current</td>\n",
       "      <td>n</td>\n",
       "      <td>NaN</td>\n",
       "      <td>debt_consolidation</td>\n",
       "      <td>Debt consolidation</td>\n",
       "      <td>021xx</td>\n",
       "      <td>MA</td>\n",
       "      <td>25.61</td>\n",
       "      <td>0</td>\n",
       "      <td>Jun-1992</td>\n",
       "      <td>0.0</td>\n",
       "      <td>NaN</td>\n",
       "      <td>NaN</td>\n",
       "      <td>9</td>\n",
       "      <td>0</td>\n",
       "      <td>33752.0</td>\n",
       "      <td>105.8</td>\n",
       "      <td>26</td>\n",
       "      <td>w</td>\n",
       "      <td>14813.07</td>\n",
       "      <td>14813.07</td>\n",
       "      <td>2060.09</td>\n",
       "      <td>2060.09</td>\n",
       "      <td>1186.93</td>\n",
       "      <td>873.16</td>\n",
       "      <td>0.0</td>\n",
       "      <td>0.0</td>\n",
       "      <td>0.0</td>\n",
       "      <td>Dec-2017</td>\n",
       "      <td>360.95</td>\n",
       "      <td>Jan-2018</td>\n",
       "      <td>Dec-2017</td>\n",
       "      <td>0</td>\n",
       "      <td>NaN</td>\n",
       "      <td>1</td>\n",
       "      <td>Individual</td>\n",
       "      <td>NaN</td>\n",
       "      <td>NaN</td>\n",
       "      <td>NaN</td>\n",
       "      <td>0</td>\n",
       "      <td>0.0</td>\n",
       "      <td>234457.0</td>\n",
       "      <td>2.0</td>\n",
       "      <td>0.0</td>\n",
       "      <td>0.0</td>\n",
       "      <td>26.0</td>\n",
       "      <td>11078.0</td>\n",
       "      <td>69.0</td>\n",
       "      <td>3.0</td>\n",
       "      <td>5.0</td>\n",
       "      <td>1962.0</td>\n",
       "      <td>94.0</td>\n",
       "      <td>31900.0</td>\n",
       "      <td>0.0</td>\n",
       "      <td>6.0</td>\n",
       "      <td>1.0</td>\n",
       "    </tr>\n",
       "  </tbody>\n",
       "</table>\n",
       "</div>"
      ],
      "text/plain": [
       "          id  member_id  loan_amnt  funded_amnt  funded_amnt_inv       term  \\\n",
       "0  112435993        NaN       2300         2300           2300.0  36 months   \n",
       "1  112290210        NaN      16000        16000          16000.0  60 months   \n",
       "\n",
       "   int_rate  installment grade sub_grade emp_title emp_length home_ownership  \\\n",
       "0     12.62        77.08     C        C1       NaN        NaN            OWN   \n",
       "1     12.62       360.95     C        C1   teacher  10+ years       MORTGAGE   \n",
       "\n",
       "   annual_inc verification_status   issue_d loan_status pymnt_plan desc  \\\n",
       "0     10000.0        Not Verified  Jun-2017     Current          n  NaN   \n",
       "1     94000.0        Not Verified  Jun-2017     Current          n  NaN   \n",
       "\n",
       "              purpose                    title zip_code addr_state    dti  \\\n",
       "0         credit_card  Credit card refinancing    148xx         NY  21.61   \n",
       "1  debt_consolidation       Debt consolidation    021xx         MA  25.61   \n",
       "\n",
       "   delinq_2yrs earliest_cr_line  inq_last_6mths  mths_since_last_delinq  \\\n",
       "0            0         Sep-1985             1.0                     NaN   \n",
       "1            0         Jun-1992             0.0                     NaN   \n",
       "\n",
       "   mths_since_last_record  open_acc  pub_rec  revol_bal  revol_util  \\\n",
       "0                     NaN         4        0     3911.0        55.1   \n",
       "1                     NaN         9        0    33752.0       105.8   \n",
       "\n",
       "   total_acc initial_list_status  out_prncp  out_prncp_inv  total_pymnt  \\\n",
       "0          6                   w    2029.91        2029.91       382.99   \n",
       "1         26                   w   14813.07       14813.07      2060.09   \n",
       "\n",
       "   total_pymnt_inv  total_rec_prncp  total_rec_int  total_rec_late_fee  \\\n",
       "0           382.99           270.09         112.90                 0.0   \n",
       "1          2060.09          1186.93         873.16                 0.0   \n",
       "\n",
       "   recoveries  collection_recovery_fee last_pymnt_d  last_pymnt_amnt  \\\n",
       "0         0.0                      0.0     Dec-2017            77.08   \n",
       "1         0.0                      0.0     Dec-2017           360.95   \n",
       "\n",
       "  next_pymnt_d last_credit_pull_d  collections_12_mths_ex_med  \\\n",
       "0     Jan-2018           Dec-2017                           0   \n",
       "1     Jan-2018           Dec-2017                           0   \n",
       "\n",
       "   mths_since_last_major_derog  policy_code application_type  \\\n",
       "0                          NaN            1       Individual   \n",
       "1                          NaN            1       Individual   \n",
       "\n",
       "   annual_inc_joint  dti_joint verification_status_joint  acc_now_delinq  \\\n",
       "0               NaN        NaN                       NaN               0   \n",
       "1               NaN        NaN                       NaN               0   \n",
       "\n",
       "   tot_coll_amt  tot_cur_bal  open_acc_6m  open_il_12m  open_il_24m  \\\n",
       "0           0.0       3911.0          0.0          0.0          0.0   \n",
       "1           0.0     234457.0          2.0          0.0          0.0   \n",
       "\n",
       "   mths_since_rcnt_il  total_bal_il  il_util  open_rv_12m  open_rv_24m  \\\n",
       "0                 NaN           0.0      NaN          1.0          2.0   \n",
       "1                26.0       11078.0     69.0          3.0          5.0   \n",
       "\n",
       "   max_bal_bc  all_util  total_rev_hi_lim  inq_fi  total_cu_tl  inq_last_12m  \n",
       "0      2315.0      55.0            7100.0     1.0          0.0           2.0  \n",
       "1      1962.0      94.0           31900.0     0.0          6.0           1.0  "
      ]
     },
     "execution_count": 2,
     "metadata": {},
     "output_type": "execute_result"
    }
   ],
   "source": [
    "df = pd.read_csv('lc_2016_2017.csv') #read data\n",
    "df.head(2)"
   ]
  },
  {
   "cell_type": "code",
   "execution_count": 3,
   "metadata": {},
   "outputs": [
    {
     "data": {
      "text/plain": [
       "(759338, 72)"
      ]
     },
     "execution_count": 3,
     "metadata": {},
     "output_type": "execute_result"
    }
   ],
   "source": [
    "df.shape"
   ]
  },
  {
   "cell_type": "markdown",
   "metadata": {},
   "source": [
    "# Feature Selection"
   ]
  },
  {
   "cell_type": "markdown",
   "metadata": {},
   "source": [
    "We have collected those features which will be available with us when a customer will submit his/her application to the lending club as we want to predict the 'bad loan' before it gets sanctioned. Therefore based on these available features we will be dciding the same. Also we have discarded few more features due to its data redundancy or NAN values."
   ]
  },
  {
   "cell_type": "code",
   "execution_count": 350,
   "metadata": {},
   "outputs": [],
   "source": [
    "df_clean = df[['grade','installment','int_rate','annual_inc','issue_d','loan_amnt','purpose','tot_cur_bal','dti','all_util','open_acc_6m','total_acc','home_ownership','pub_rec','sub_grade',\n",
    "               'loan_status','inq_fi','total_cu_tl']]\n",
    "\n",
    "#all these features will be available to us with the application of the customer"
   ]
  },
  {
   "cell_type": "markdown",
   "metadata": {},
   "source": [
    "Now we need to see the overall correlation between all the parameters."
   ]
  },
  {
   "cell_type": "code",
   "execution_count": 351,
   "metadata": {},
   "outputs": [
    {
     "data": {
      "image/png": "[encoded data removed]",
      "text/plain": [
       "<Figure size 432x288 with 2 Axes>"
      ]
     },
     "metadata": {
      "needs_background": "light"
     },
     "output_type": "display_data"
    }
   ],
   "source": [
    "#Plot the correlation betwwen all the available features\n",
    "import seaborn as sb\n",
    "dataplot = sb.heatmap(df_clean.corr(), cmap=\"YlGnBu\", annot=True)"
   ]
  },
  {
   "cell_type": "code",
   "execution_count": 353,
   "metadata": {},
   "outputs": [
    {
     "data": {
      "text/plain": [
       "(759338, 18)"
      ]
     },
     "execution_count": 353,
     "metadata": {},
     "output_type": "execute_result"
    }
   ],
   "source": [
    "df_clean.shape"
   ]
  },
  {
   "cell_type": "markdown",
   "metadata": {},
   "source": [
    "#### A general overview of Data"
   ]
  },
  {
   "cell_type": "code",
   "execution_count": 354,
   "metadata": {
    "scrolled": true
   },
   "outputs": [
    {
     "name": "stdout",
     "output_type": "stream",
     "text": [
      "<class 'pandas.core.frame.DataFrame'>\n",
      "RangeIndex: 759338 entries, 0 to 759337\n",
      "Data columns (total 18 columns):\n",
      " #   Column          Non-Null Count   Dtype  \n",
      "---  ------          --------------   -----  \n",
      " 0   grade           759338 non-null  object \n",
      " 1   installment     759338 non-null  float64\n",
      " 2   int_rate        759338 non-null  float64\n",
      " 3   annual_inc      759338 non-null  float64\n",
      " 4   issue_d         759338 non-null  object \n",
      " 5   loan_amnt       759338 non-null  int64  \n",
      " 6   purpose         759338 non-null  object \n",
      " 7   tot_cur_bal     759338 non-null  float64\n",
      " 8   dti             758983 non-null  float64\n",
      " 9   all_util        759224 non-null  float64\n",
      " 10  open_acc_6m     759276 non-null  float64\n",
      " 11  total_acc       759338 non-null  int64  \n",
      " 12  home_ownership  759338 non-null  object \n",
      " 13  pub_rec         759338 non-null  int64  \n",
      " 14  sub_grade       759338 non-null  object \n",
      " 15  loan_status     759338 non-null  object \n",
      " 16  inq_fi          759277 non-null  float64\n",
      " 17  total_cu_tl     759276 non-null  float64\n",
      "dtypes: float64(9), int64(3), object(6)\n",
      "memory usage: 104.3+ MB\n"
     ]
    }
   ],
   "source": [
    "df_clean.info()"
   ]
  },
  {
   "cell_type": "markdown",
   "metadata": {},
   "source": [
    "Among the 18 Features few are categorical or object\n",
    "\n",
    "Few are discrete numbers or continous (integer,float)"
   ]
  },
  {
   "cell_type": "markdown",
   "metadata": {},
   "source": [
    "###### Let's describe the data"
   ]
  },
  {
   "cell_type": "markdown",
   "metadata": {},
   "source": [
    "This section will provide a overall descriptive statistics of the data. \n",
    "\n",
    "It shows mean, standard deviation, minimum value, maximum value etc. of any features."
   ]
  },
  {
   "cell_type": "code",
   "execution_count": 355,
   "metadata": {},
   "outputs": [
    {
     "data": {
      "text/html": [
       "<div>\n",
       "<style scoped>\n",
       "    .dataframe tbody tr th:only-of-type {\n",
       "        vertical-align: middle;\n",
       "    }\n",
       "\n",
       "    .dataframe tbody tr th {\n",
       "        vertical-align: top;\n",
       "    }\n",
       "\n",
       "    .dataframe thead th {\n",
       "        text-align: right;\n",
       "    }\n",
       "</style>\n",
       "<table border=\"1\" class=\"dataframe\">\n",
       "  <thead>\n",
       "    <tr style=\"text-align: right;\">\n",
       "      <th></th>\n",
       "      <th>installment</th>\n",
       "      <th>int_rate</th>\n",
       "      <th>annual_inc</th>\n",
       "      <th>loan_amnt</th>\n",
       "      <th>tot_cur_bal</th>\n",
       "      <th>dti</th>\n",
       "      <th>all_util</th>\n",
       "      <th>open_acc_6m</th>\n",
       "      <th>total_acc</th>\n",
       "      <th>pub_rec</th>\n",
       "      <th>inq_fi</th>\n",
       "      <th>total_cu_tl</th>\n",
       "    </tr>\n",
       "  </thead>\n",
       "  <tbody>\n",
       "    <tr>\n",
       "      <th>count</th>\n",
       "      <td>759338.000000</td>\n",
       "      <td>759338.000000</td>\n",
       "      <td>7.593380e+05</td>\n",
       "      <td>759338.000000</td>\n",
       "      <td>7.593380e+05</td>\n",
       "      <td>758983.000000</td>\n",
       "      <td>759224.000000</td>\n",
       "      <td>759276.000000</td>\n",
       "      <td>759338.000000</td>\n",
       "      <td>759338.000000</td>\n",
       "      <td>759277.000000</td>\n",
       "      <td>759276.000000</td>\n",
       "    </tr>\n",
       "    <tr>\n",
       "      <th>mean</th>\n",
       "      <td>442.584639</td>\n",
       "      <td>13.187041</td>\n",
       "      <td>7.996778e+04</td>\n",
       "      <td>14707.775260</td>\n",
       "      <td>1.447215e+05</td>\n",
       "      <td>18.980803</td>\n",
       "      <td>59.259296</td>\n",
       "      <td>0.954601</td>\n",
       "      <td>24.136807</td>\n",
       "      <td>0.244998</td>\n",
       "      <td>0.968562</td>\n",
       "      <td>1.475229</td>\n",
       "    </tr>\n",
       "    <tr>\n",
       "      <th>std</th>\n",
       "      <td>275.739578</td>\n",
       "      <td>5.054311</td>\n",
       "      <td>1.634141e+05</td>\n",
       "      <td>9215.456493</td>\n",
       "      <td>1.624493e+05</td>\n",
       "      <td>13.363398</td>\n",
       "      <td>20.473969</td>\n",
       "      <td>1.151399</td>\n",
       "      <td>11.955676</td>\n",
       "      <td>0.660138</td>\n",
       "      <td>1.484057</td>\n",
       "      <td>2.681394</td>\n",
       "    </tr>\n",
       "    <tr>\n",
       "      <th>min</th>\n",
       "      <td>30.120000</td>\n",
       "      <td>5.320000</td>\n",
       "      <td>0.000000e+00</td>\n",
       "      <td>1000.000000</td>\n",
       "      <td>0.000000e+00</td>\n",
       "      <td>-1.000000</td>\n",
       "      <td>0.000000</td>\n",
       "      <td>0.000000</td>\n",
       "      <td>2.000000</td>\n",
       "      <td>0.000000</td>\n",
       "      <td>0.000000</td>\n",
       "      <td>0.000000</td>\n",
       "    </tr>\n",
       "    <tr>\n",
       "      <th>25%</th>\n",
       "      <td>241.700000</td>\n",
       "      <td>9.750000</td>\n",
       "      <td>4.800000e+04</td>\n",
       "      <td>7500.000000</td>\n",
       "      <td>3.006000e+04</td>\n",
       "      <td>12.260000</td>\n",
       "      <td>46.000000</td>\n",
       "      <td>0.000000</td>\n",
       "      <td>15.000000</td>\n",
       "      <td>0.000000</td>\n",
       "      <td>0.000000</td>\n",
       "      <td>0.000000</td>\n",
       "    </tr>\n",
       "    <tr>\n",
       "      <th>50%</th>\n",
       "      <td>370.840000</td>\n",
       "      <td>12.620000</td>\n",
       "      <td>6.700000e+04</td>\n",
       "      <td>12000.000000</td>\n",
       "      <td>8.170450e+04</td>\n",
       "      <td>18.180000</td>\n",
       "      <td>60.000000</td>\n",
       "      <td>1.000000</td>\n",
       "      <td>22.000000</td>\n",
       "      <td>0.000000</td>\n",
       "      <td>0.000000</td>\n",
       "      <td>0.000000</td>\n",
       "    </tr>\n",
       "    <tr>\n",
       "      <th>75%</th>\n",
       "      <td>590.505000</td>\n",
       "      <td>15.590000</td>\n",
       "      <td>9.500000e+04</td>\n",
       "      <td>20000.000000</td>\n",
       "      <td>2.156978e+05</td>\n",
       "      <td>24.780000</td>\n",
       "      <td>74.000000</td>\n",
       "      <td>1.000000</td>\n",
       "      <td>31.000000</td>\n",
       "      <td>0.000000</td>\n",
       "      <td>1.000000</td>\n",
       "      <td>2.000000</td>\n",
       "    </tr>\n",
       "    <tr>\n",
       "      <th>max</th>\n",
       "      <td>1719.830000</td>\n",
       "      <td>30.990000</td>\n",
       "      <td>1.100000e+08</td>\n",
       "      <td>40000.000000</td>\n",
       "      <td>8.524709e+06</td>\n",
       "      <td>999.000000</td>\n",
       "      <td>211.000000</td>\n",
       "      <td>18.000000</td>\n",
       "      <td>176.000000</td>\n",
       "      <td>61.000000</td>\n",
       "      <td>48.000000</td>\n",
       "      <td>111.000000</td>\n",
       "    </tr>\n",
       "  </tbody>\n",
       "</table>\n",
       "</div>"
      ],
      "text/plain": [
       "         installment       int_rate    annual_inc      loan_amnt  \\\n",
       "count  759338.000000  759338.000000  7.593380e+05  759338.000000   \n",
       "mean      442.584639      13.187041  7.996778e+04   14707.775260   \n",
       "std       275.739578       5.054311  1.634141e+05    9215.456493   \n",
       "min        30.120000       5.320000  0.000000e+00    1000.000000   \n",
       "25%       241.700000       9.750000  4.800000e+04    7500.000000   \n",
       "50%       370.840000      12.620000  6.700000e+04   12000.000000   \n",
       "75%       590.505000      15.590000  9.500000e+04   20000.000000   \n",
       "max      1719.830000      30.990000  1.100000e+08   40000.000000   \n",
       "\n",
       "        tot_cur_bal            dti       all_util    open_acc_6m  \\\n",
       "count  7.593380e+05  758983.000000  759224.000000  759276.000000   \n",
       "mean   1.447215e+05      18.980803      59.259296       0.954601   \n",
       "std    1.624493e+05      13.363398      20.473969       1.151399   \n",
       "min    0.000000e+00      -1.000000       0.000000       0.000000   \n",
       "25%    3.006000e+04      12.260000      46.000000       0.000000   \n",
       "50%    8.170450e+04      18.180000      60.000000       1.000000   \n",
       "75%    2.156978e+05      24.780000      74.000000       1.000000   \n",
       "max    8.524709e+06     999.000000     211.000000      18.000000   \n",
       "\n",
       "           total_acc        pub_rec         inq_fi    total_cu_tl  \n",
       "count  759338.000000  759338.000000  759277.000000  759276.000000  \n",
       "mean       24.136807       0.244998       0.968562       1.475229  \n",
       "std        11.955676       0.660138       1.484057       2.681394  \n",
       "min         2.000000       0.000000       0.000000       0.000000  \n",
       "25%        15.000000       0.000000       0.000000       0.000000  \n",
       "50%        22.000000       0.000000       0.000000       0.000000  \n",
       "75%        31.000000       0.000000       1.000000       2.000000  \n",
       "max       176.000000      61.000000      48.000000     111.000000  "
      ]
     },
     "execution_count": 355,
     "metadata": {},
     "output_type": "execute_result"
    }
   ],
   "source": [
    "df_clean.describe()"
   ]
  },
  {
   "cell_type": "markdown",
   "metadata": {},
   "source": [
    "### Data Processiong"
   ]
  },
  {
   "cell_type": "markdown",
   "metadata": {},
   "source": [
    "##### Treating NAN value"
   ]
  },
  {
   "cell_type": "code",
   "execution_count": null,
   "metadata": {},
   "outputs": [],
   "source": [
    "fig = plt.figure(figsize=(16,8))\n",
    "sns.heatmap(df_clean.isna())"
   ]
  },
  {
   "cell_type": "code",
   "execution_count": 356,
   "metadata": {},
   "outputs": [
    {
     "data": {
      "text/plain": [
       "Index([], dtype='object')"
      ]
     },
     "execution_count": 356,
     "metadata": {},
     "output_type": "execute_result"
    }
   ],
   "source": [
    "#Removing Columns which contains NaN value more than 10%\n",
    "\n",
    "nan_col = df_clean.columns[df_clean.isnull().mean() > 0.10]\n",
    "nan_col"
   ]
  },
  {
   "cell_type": "markdown",
   "metadata": {},
   "source": [
    "As we have already sorted the NAN valued column in our EDA and portfolio prpearation. Therefore here no NAN valued column is observed. We have now organised clean data with us for further analysis."
   ]
  },
  {
   "cell_type": "code",
   "execution_count": 361,
   "metadata": {},
   "outputs": [
    {
     "data": {
      "text/plain": [
       "array(['Current', 'Fully Paid', 'In Grace Period', 'Late (31-120 days)',\n",
       "       'Late (16-30 days)', 'Charged Off', 'Default'], dtype=object)"
      ]
     },
     "execution_count": 361,
     "metadata": {},
     "output_type": "execute_result"
    }
   ],
   "source": [
    "df_clean['loan_status'].unique()"
   ]
  },
  {
   "cell_type": "markdown",
   "metadata": {},
   "source": [
    "Bad Loan = 'Charged Off', 'Default', assigning '0'\n",
    "\n",
    "\n",
    "Good Loan = 'Fully Paid','In Grace Period', assigning '1'"
   ]
  },
  {
   "cell_type": "code",
   "execution_count": 362,
   "metadata": {},
   "outputs": [],
   "source": [
    "df_clean = df_clean[df_clean.loan_status.isin(['Fully Paid','In Grace Period','Charged Off', 'Default'])]\n",
    "df_clean['bad_loan'] = [1 if (i=='Default') | (i =='Charged Off') else 0 for i in df_clean['loan_status']]"
   ]
  },
  {
   "cell_type": "markdown",
   "metadata": {},
   "source": [
    "#### Label Encoding"
   ]
  },
  {
   "cell_type": "markdown",
   "metadata": {},
   "source": [
    "Features are consisting differnt categorical values which needs to be converted into numerical values to avoid weightage problem and proceed further."
   ]
  },
  {
   "cell_type": "code",
   "execution_count": 365,
   "metadata": {},
   "outputs": [],
   "source": [
    "dff = df_clean.astype(str).apply(LabelEncoder().fit_transform)"
   ]
  },
  {
   "cell_type": "markdown",
   "metadata": {},
   "source": [
    "#### Splitting the value in X and Y"
   ]
  },
  {
   "cell_type": "code",
   "execution_count": 368,
   "metadata": {},
   "outputs": [],
   "source": [
    "X = dff.drop(['loan_status','bad_loan'],axis=1)\n",
    "y = dff['bad_loan']"
   ]
  },
  {
   "cell_type": "markdown",
   "metadata": {},
   "source": [
    "#### Scaling the features"
   ]
  },
  {
   "cell_type": "markdown",
   "metadata": {},
   "source": [
    "In the dataset different features are having different range of numbers. Features with higher range may impact the weightage val;ue more than the features with lower range. This lead to misclassification during the model training. Therefore we are bringing all the value between 0-1 with MinMaxScalar technique to avoid any kind of misclassification"
   ]
  },
  {
   "cell_type": "code",
   "execution_count": 372,
   "metadata": {},
   "outputs": [],
   "source": [
    "scaler = MinMaxScaler()\n",
    "XX = scaler.fit_transform(X)"
   ]
  },
  {
   "cell_type": "markdown",
   "metadata": {},
   "source": [
    "#### Encounter class imbalance"
   ]
  },
  {
   "cell_type": "markdown",
   "metadata": {},
   "source": [
    "In the following line we have seen that the '0' class is in the data for 137352 times whereas the '1' class is for 37233 times. \n",
    "Therefore, the class imbalance is clearly shown in the data and eneds to be treated for unbiased result."
   ]
  },
  {
   "cell_type": "code",
   "execution_count": 370,
   "metadata": {},
   "outputs": [
    {
     "data": {
      "text/plain": [
       "0    137352\n",
       "1     37233\n",
       "Name: bad_loan, dtype: int64"
      ]
     },
     "execution_count": 370,
     "metadata": {},
     "output_type": "execute_result"
    }
   ],
   "source": [
    "y.value_counts()"
   ]
  },
  {
   "cell_type": "markdown",
   "metadata": {},
   "source": [
    "# SMOTE (Synthetic Minority Oversampling Technique)"
   ]
  },
  {
   "cell_type": "markdown",
   "metadata": {},
   "source": [
    "we are oversampling with the SMOTE technique to create higher number of sample size with the lower sampled class [in this case '1' class]"
   ]
  },
  {
   "cell_type": "code",
   "execution_count": 373,
   "metadata": {},
   "outputs": [],
   "source": [
    "from imblearn.over_sampling import SMOTE\n",
    "\n",
    "over  = SMOTE(sampling_strategy=0.60)\n",
    "X_sm, y_sm = over.fit_resample(XX, y)"
   ]
  },
  {
   "cell_type": "code",
   "execution_count": 376,
   "metadata": {},
   "outputs": [
    {
     "data": {
      "text/plain": [
       "0    137352\n",
       "1     82411\n",
       "Name: bad_loan, dtype: int64"
      ]
     },
     "execution_count": 376,
     "metadata": {},
     "output_type": "execute_result"
    }
   ],
   "source": [
    "pd.DataFrame(y_sm).value_counts() #now class '1' is having good amount of sample size"
   ]
  },
  {
   "cell_type": "markdown",
   "metadata": {},
   "source": [
    "# Model Run"
   ]
  },
  {
   "cell_type": "code",
   "execution_count": 374,
   "metadata": {},
   "outputs": [],
   "source": [
    "#25% of the total data is taken as testing data and 75% is taken as training data\n",
    "\n",
    "X_train, X_test, y_train, y_test = train_test_split(X_sm, y_sm,test_size=0.25, random_state=20) "
   ]
  },
  {
   "cell_type": "code",
   "execution_count": 375,
   "metadata": {},
   "outputs": [],
   "source": [
    "#array to dataframe conversion\n",
    "\n",
    "X_sm_ = pd.DataFrame(X_train)\n",
    "y_sm_ = pd.DataFrame(y_train)"
   ]
  },
  {
   "cell_type": "markdown",
   "metadata": {},
   "source": [
    "#### Cross Validation technique (4 fold)"
   ]
  },
  {
   "cell_type": "code",
   "execution_count": 377,
   "metadata": {},
   "outputs": [],
   "source": [
    "from sklearn.model_selection import KFold, StratifiedKFold\n",
    "from sklearn.metrics import roc_auc_score\n",
    "\n",
    "def cross_val(X, y, model, params, folds=4):\n",
    "\n",
    "    skf = StratifiedKFold(n_splits=folds, shuffle=True, random_state=21)\n",
    "    for fold, (train_idx, test_idx) in enumerate(skf.split(X, y)):\n",
    "        print(f\"Fold: {fold}\")\n",
    "        x_train, y_train = X.iloc[train_idx], y.iloc[train_idx]\n",
    "        x_test, y_test = X.iloc[test_idx], y.iloc[test_idx]\n",
    "\n",
    "        alg = model(**params)\n",
    "        alg.fit(x_train, y_train,\n",
    "                eval_set=[(x_test, y_test)],\n",
    "                early_stopping_rounds=100,\n",
    "                verbose=400)\n",
    "\n",
    "        pred = alg.predict_proba(x_test)[:, 1]\n",
    "        roc_score = roc_auc_score(y_test, pred)\n",
    "        print(f\"roc_auc_score: {roc_score}\")\n",
    "        print(\"-\"*50)\n",
    "    \n",
    "    return alg"
   ]
  },
  {
   "cell_type": "code",
   "execution_count": 378,
   "metadata": {},
   "outputs": [
    {
     "name": "stdout",
     "output_type": "stream",
     "text": [
      "Using class weights while training\n"
     ]
    },
    {
     "name": "stderr",
     "output_type": "stream",
     "text": [
      "C:\\Users\\IITM\\Anaconda3\\lib\\site-packages\\sklearn\\utils\\validation.py:72: FutureWarning: Pass classes=[0 1], y=61968     0\n",
      "98539     1\n",
      "165629    0\n",
      "63885     1\n",
      "37999     0\n",
      "         ..\n",
      "178569    1\n",
      "31962     0\n",
      "23775     0\n",
      "37135     0\n",
      "92634     0\n",
      "Name: bad_loan, Length: 164822, dtype: int32 as keyword args. From version 1.0 (renaming of 0.25) passing these as positional arguments will result in an error\n",
      "  \"will result in an error\", FutureWarning)\n"
     ]
    },
    {
     "data": {
      "text/plain": [
       "[0.8020457221827525, 1.327689259074286]"
      ]
     },
     "execution_count": 378,
     "metadata": {},
     "output_type": "execute_result"
    }
   ],
   "source": [
    "weights = class_weight.compute_class_weight('balanced',np.unique(y_sm_['bad_loan']),y_sm_['bad_loan'])\n",
    "print('Using class weights while training')\n",
    "list(weights)"
   ]
  },
  {
   "cell_type": "markdown",
   "metadata": {},
   "source": [
    "#### Model Construction"
   ]
  },
  {
   "cell_type": "markdown",
   "metadata": {},
   "source": [
    "CatBoost model is used in our study."
   ]
  },
  {
   "cell_type": "code",
   "execution_count": 379,
   "metadata": {},
   "outputs": [],
   "source": [
    "#hyperparameters of model\n",
    "\n",
    "cat_params= {'n_estimators': 20000, \n",
    "                  'depth': 4, \n",
    "                  'learning_rate': 0.023, \n",
    "                  'colsample_bylevel': 0.655, \n",
    "                  'bagging_temperature': 0.921, \n",
    "                  'l2_leaf_reg': 10.133,\n",
    "                    'random_seed':42,\n",
    "                    'class_weights':list(weights)\n",
    "            }"
   ]
  },
  {
   "cell_type": "code",
   "execution_count": 380,
   "metadata": {},
   "outputs": [
    {
     "name": "stdout",
     "output_type": "stream",
     "text": [
      "Fold: 0\n",
      "0:\tlearn: 0.6889134\ttest: 0.6888584\tbest: 0.6888584 (0)\ttotal: 48.6ms\tremaining: 16m 12s\n",
      "400:\tlearn: 0.4427689\ttest: 0.4428610\tbest: 0.4428610 (400)\ttotal: 11.8s\tremaining: 9m 35s\n",
      "800:\tlearn: 0.4194224\ttest: 0.4211096\tbest: 0.4211096 (800)\ttotal: 25.2s\tremaining: 10m 3s\n",
      "1200:\tlearn: 0.4103785\ttest: 0.4138375\tbest: 0.4138375 (1200)\ttotal: 37s\tremaining: 9m 39s\n",
      "1600:\tlearn: 0.4051765\ttest: 0.4105565\tbest: 0.4105565 (1600)\ttotal: 49.4s\tremaining: 9m 27s\n",
      "2000:\tlearn: 0.4014168\ttest: 0.4088215\tbest: 0.4088201 (1998)\ttotal: 1m 1s\tremaining: 9m 15s\n",
      "2400:\tlearn: 0.3983056\ttest: 0.4077438\tbest: 0.4077393 (2365)\ttotal: 1m 13s\tremaining: 9m 2s\n",
      "2800:\tlearn: 0.3955981\ttest: 0.4070442\tbest: 0.4070414 (2797)\ttotal: 1m 26s\tremaining: 8m 48s\n",
      "3200:\tlearn: 0.3929707\ttest: 0.4064334\tbest: 0.4064312 (3194)\ttotal: 1m 38s\tremaining: 8m 37s\n",
      "3600:\tlearn: 0.3906533\ttest: 0.4059976\tbest: 0.4059960 (3596)\ttotal: 1m 50s\tremaining: 8m 24s\n",
      "4000:\tlearn: 0.3884071\ttest: 0.4055974\tbest: 0.4055902 (3978)\ttotal: 2m 3s\tremaining: 8m 14s\n",
      "4400:\tlearn: 0.3863444\ttest: 0.4052251\tbest: 0.4052236 (4399)\ttotal: 2m 16s\tremaining: 8m 3s\n",
      "Stopped by overfitting detector  (100 iterations wait)\n",
      "\n",
      "bestTest = 0.4050535186\n",
      "bestIteration = 4661\n",
      "\n",
      "Shrink model to first 4662 iterations.\n",
      "roc_auc_score: 0.8778834845011162\n",
      "--------------------------------------------------\n",
      "Fold: 1\n",
      "0:\tlearn: 0.6889407\ttest: 0.6890145\tbest: 0.6890145 (0)\ttotal: 28.2ms\tremaining: 9m 23s\n",
      "400:\tlearn: 0.4435521\ttest: 0.4433520\tbest: 0.4433520 (400)\ttotal: 12s\tremaining: 9m 46s\n",
      "800:\tlearn: 0.4201539\ttest: 0.4215604\tbest: 0.4215604 (800)\ttotal: 23.8s\tremaining: 9m 29s\n",
      "1200:\tlearn: 0.4109497\ttest: 0.4144105\tbest: 0.4144105 (1200)\ttotal: 36.1s\tremaining: 9m 24s\n",
      "1600:\tlearn: 0.4055429\ttest: 0.4110731\tbest: 0.4110731 (1600)\ttotal: 48.1s\tremaining: 9m 12s\n",
      "2000:\tlearn: 0.4017372\ttest: 0.4093111\tbest: 0.4093110 (1994)\ttotal: 60s\tremaining: 8m 59s\n",
      "2400:\tlearn: 0.3986551\ttest: 0.4082524\tbest: 0.4082465 (2385)\ttotal: 1m 11s\tremaining: 8m 47s\n",
      "2800:\tlearn: 0.3957101\ttest: 0.4072377\tbest: 0.4072327 (2798)\ttotal: 1m 23s\tremaining: 8m 34s\n",
      "3200:\tlearn: 0.3930361\ttest: 0.4064096\tbest: 0.4064096 (3200)\ttotal: 1m 35s\tremaining: 8m 21s\n",
      "3600:\tlearn: 0.3905633\ttest: 0.4058880\tbest: 0.4058862 (3599)\ttotal: 1m 47s\tremaining: 8m 10s\n",
      "4000:\tlearn: 0.3883426\ttest: 0.4055083\tbest: 0.4054999 (3990)\ttotal: 1m 59s\tremaining: 7m 58s\n",
      "4400:\tlearn: 0.3861843\ttest: 0.4052262\tbest: 0.4052262 (4400)\ttotal: 2m 12s\tremaining: 7m 48s\n",
      "4800:\tlearn: 0.3839615\ttest: 0.4047664\tbest: 0.4047664 (4800)\ttotal: 2m 24s\tremaining: 7m 36s\n",
      "5200:\tlearn: 0.3820323\ttest: 0.4047014\tbest: 0.4046905 (5180)\ttotal: 2m 36s\tremaining: 7m 25s\n",
      "Stopped by overfitting detector  (100 iterations wait)\n",
      "\n",
      "bestTest = 0.404524546\n",
      "bestIteration = 5473\n",
      "\n",
      "Shrink model to first 5474 iterations.\n",
      "roc_auc_score: 0.8775099693350954\n",
      "--------------------------------------------------\n",
      "Fold: 2\n",
      "0:\tlearn: 0.6889318\ttest: 0.6888571\tbest: 0.6888571 (0)\ttotal: 54.6ms\tremaining: 18m 12s\n",
      "400:\tlearn: 0.4426136\ttest: 0.4431385\tbest: 0.4431385 (400)\ttotal: 13.5s\tremaining: 10m 57s\n",
      "800:\tlearn: 0.4194802\ttest: 0.4204771\tbest: 0.4204771 (800)\ttotal: 25.8s\tremaining: 10m 19s\n",
      "1200:\tlearn: 0.4106149\ttest: 0.4130852\tbest: 0.4130852 (1200)\ttotal: 38.4s\tremaining: 10m\n",
      "1600:\tlearn: 0.4051488\ttest: 0.4095668\tbest: 0.4095668 (1600)\ttotal: 50.9s\tremaining: 9m 45s\n",
      "2000:\tlearn: 0.4016068\ttest: 0.4080497\tbest: 0.4080497 (2000)\ttotal: 1m 3s\tremaining: 9m 27s\n",
      "2400:\tlearn: 0.3985106\ttest: 0.4071107\tbest: 0.4070957 (2389)\ttotal: 1m 15s\tremaining: 9m 11s\n",
      "2800:\tlearn: 0.3956492\ttest: 0.4061573\tbest: 0.4061538 (2791)\ttotal: 1m 27s\tremaining: 8m 54s\n",
      "3200:\tlearn: 0.3931434\ttest: 0.4055310\tbest: 0.4055299 (3197)\ttotal: 1m 39s\tremaining: 8m 39s\n",
      "3600:\tlearn: 0.3909665\ttest: 0.4052340\tbest: 0.4052329 (3599)\ttotal: 1m 51s\tremaining: 8m 26s\n",
      "4000:\tlearn: 0.3886820\ttest: 0.4047079\tbest: 0.4047045 (3999)\ttotal: 2m 3s\tremaining: 8m 14s\n",
      "4400:\tlearn: 0.3864901\ttest: 0.4043024\tbest: 0.4043015 (4399)\ttotal: 2m 16s\tremaining: 8m 2s\n",
      "4800:\tlearn: 0.3844640\ttest: 0.4039364\tbest: 0.4039348 (4799)\ttotal: 2m 28s\tremaining: 7m 49s\n",
      "Stopped by overfitting detector  (100 iterations wait)\n",
      "\n",
      "bestTest = 0.4038364701\n",
      "bestIteration = 4908\n",
      "\n",
      "Shrink model to first 4909 iterations.\n",
      "roc_auc_score: 0.878154372314493\n",
      "--------------------------------------------------\n",
      "Fold: 3\n",
      "0:\tlearn: 0.6891500\ttest: 0.6891996\tbest: 0.6891996 (0)\ttotal: 36.6ms\tremaining: 12m 11s\n",
      "400:\tlearn: 0.4425432\ttest: 0.4467014\tbest: 0.4467014 (400)\ttotal: 13.6s\tremaining: 11m 6s\n",
      "800:\tlearn: 0.4179911\ttest: 0.4241385\tbest: 0.4241385 (800)\ttotal: 27s\tremaining: 10m 46s\n",
      "1200:\tlearn: 0.4087528\ttest: 0.4171248\tbest: 0.4171248 (1200)\ttotal: 39.6s\tremaining: 10m 19s\n",
      "1600:\tlearn: 0.4037819\ttest: 0.4144169\tbest: 0.4144169 (1600)\ttotal: 52.2s\tremaining: 9m 59s\n",
      "2000:\tlearn: 0.4003376\ttest: 0.4132339\tbest: 0.4132339 (2000)\ttotal: 1m 4s\tremaining: 9m 41s\n",
      "2400:\tlearn: 0.3969111\ttest: 0.4118274\tbest: 0.4118274 (2400)\ttotal: 1m 17s\tremaining: 9m 27s\n",
      "2800:\tlearn: 0.3940201\ttest: 0.4110660\tbest: 0.4110565 (2773)\ttotal: 1m 30s\tremaining: 9m 15s\n",
      "3200:\tlearn: 0.3914985\ttest: 0.4106418\tbest: 0.4106366 (3193)\ttotal: 1m 43s\tremaining: 9m 3s\n",
      "3600:\tlearn: 0.3890202\ttest: 0.4101258\tbest: 0.4101237 (3598)\ttotal: 1m 56s\tremaining: 8m 49s\n",
      "4000:\tlearn: 0.3867489\ttest: 0.4098656\tbest: 0.4098656 (3999)\ttotal: 2m 8s\tremaining: 8m 34s\n",
      "4400:\tlearn: 0.3845415\ttest: 0.4095323\tbest: 0.4095279 (4395)\ttotal: 2m 21s\tremaining: 8m 20s\n",
      "4800:\tlearn: 0.3823764\ttest: 0.4091694\tbest: 0.4091694 (4800)\ttotal: 2m 33s\tremaining: 8m 6s\n",
      "Stopped by overfitting detector  (100 iterations wait)\n",
      "\n",
      "bestTest = 0.4090942356\n",
      "bestIteration = 4856\n",
      "\n",
      "Shrink model to first 4857 iterations.\n",
      "roc_auc_score: 0.8747939199429652\n",
      "--------------------------------------------------\n"
     ]
    }
   ],
   "source": [
    "from catboost import CatBoostClassifier\n",
    "\n",
    "cat_model = cross_val(X_sm_, y_sm_, CatBoostClassifier, cat_params)"
   ]
  },
  {
   "cell_type": "markdown",
   "metadata": {},
   "source": [
    "# Model Evaluation"
   ]
  },
  {
   "cell_type": "code",
   "execution_count": 381,
   "metadata": {},
   "outputs": [
    {
     "name": "stdout",
     "output_type": "stream",
     "text": [
      "Train AUC : 0.8920768591461565\n",
      "Test AUC : 0.87848392165134\n"
     ]
    }
   ],
   "source": [
    "print('Train AUC :',roc_auc_score(y_train, cat_model.predict_proba(X_train)[:, 1]))\n",
    "print('Test AUC :',roc_auc_score(y_test, cat_model.predict_proba(X_test)[:, 1]))"
   ]
  },
  {
   "cell_type": "markdown",
   "metadata": {},
   "source": [
    "#### Feature importance"
   ]
  },
  {
   "cell_type": "code",
   "execution_count": 431,
   "metadata": {},
   "outputs": [
    {
     "name": "stdout",
     "output_type": "stream",
     "text": [
      "Most important Features are :\n"
     ]
    },
    {
     "data": {
      "image/png": "[encoded data removed]",
      "text/plain": [
       "<Figure size 1152x576 with 1 Axes>"
      ]
     },
     "metadata": {
      "needs_background": "light"
     },
     "output_type": "display_data"
    }
   ],
   "source": [
    "plt.figure(figsize=[16,8])\n",
    "feat_imp=[t for t in zip(X.columns,cat_model.feature_importances_)]\n",
    "feat_imp_df=pd.DataFrame(feat_imp,columns=['feature','importance'])\n",
    "feat_imp_df=feat_imp_df.sort_values('importance',ascending=False)\n",
    "print('Most important Features are :')\n",
    "#feat_imp_df=feat_imp_df[feat_imp_df['importance']>=1]\n",
    "sns.barplot(x='importance',y='feature',data=feat_imp_df)\n",
    "#plt.show()\n",
    "plt.savefig('feature.png')"
   ]
  },
  {
   "cell_type": "code",
   "execution_count": 383,
   "metadata": {},
   "outputs": [
    {
     "data": {
      "text/plain": [
       "0.8232103529240458"
      ]
     },
     "execution_count": 383,
     "metadata": {},
     "output_type": "execute_result"
    }
   ],
   "source": [
    "cat_model.score(X_test,y_test)"
   ]
  },
  {
   "cell_type": "code",
   "execution_count": 384,
   "metadata": {},
   "outputs": [],
   "source": [
    "y_predicted = cat_model.predict(X_test)"
   ]
  },
  {
   "cell_type": "markdown",
   "metadata": {},
   "source": [
    "#### Confusion Matrix"
   ]
  },
  {
   "cell_type": "code",
   "execution_count": 385,
   "metadata": {},
   "outputs": [
    {
     "data": {
      "text/plain": [
       "array([[31184,  3417],\n",
       "       [ 6296, 14044]], dtype=int64)"
      ]
     },
     "execution_count": 385,
     "metadata": {},
     "output_type": "execute_result"
    }
   ],
   "source": [
    "from sklearn.metrics import confusion_matrix,plot_confusion_matrix\n",
    "\n",
    "\n",
    "\n",
    "cm = confusion_matrix(y_test, y_predicted) #check confusion matrix to find the model accuracy\n",
    "cm "
   ]
  },
  {
   "cell_type": "code",
   "execution_count": 429,
   "metadata": {},
   "outputs": [
    {
     "data": {
      "image/png": "[encoded data removed]",
      "text/plain": [
       "<Figure size 432x288 with 2 Axes>"
      ]
     },
     "metadata": {
      "needs_background": "light"
     },
     "output_type": "display_data"
    }
   ],
   "source": [
    "plot_confusion_matrix(cat_model,X_test,y_test)\n",
    "plt.savefig('confusionmatrix_catboost.png')"
   ]
  },
  {
   "cell_type": "markdown",
   "metadata": {},
   "source": [
    "#### Prediction Probability"
   ]
  },
  {
   "cell_type": "code",
   "execution_count": 434,
   "metadata": {},
   "outputs": [
    {
     "data": {
      "image/png": "[encoded data removed]",
      "text/plain": [
       "<Figure size 1152x576 with 1 Axes>"
      ]
     },
     "metadata": {
      "needs_background": "light"
     },
     "output_type": "display_data"
    }
   ],
   "source": [
    "pred_catb = cat_model.predict_proba(X_test)[:,1]\n",
    "\n",
    "fff = pd.DataFrame(y_test).reset_index()\n",
    "fff = fff.iloc[:,1:]\n",
    "\n",
    "idx = fff[fff==0].dropna()\n",
    "\n",
    "ee = pd.DataFrame(pred_catb)\n",
    "\n",
    "plt.figure(figsize=[16,8])\n",
    "weights = np.ones_like(ee.loc[idx.index])/float(len(ee.loc[idx.index]))\n",
    "cc = plt.hist(ee.loc[idx.index],weights=weights,bins = 25,histtype='step',cumulative=True)\n",
    "\n",
    "\n",
    "idx_ = fff[fff==1].dropna()\n",
    "\n",
    "\n",
    "weights = np.ones_like(ee.loc[idx_.index])/float(len(ee.loc[idx_.index]))\n",
    "cc = plt.hist(ee.loc[idx_.index],weights=weights,bins = 25,histtype='step',color='r',cumulative=True)\n",
    "\n",
    "plt.axvspan(0,0.4,alpha=0.2)\n",
    "plt.axvspan(0.4,1,color='r',alpha=0.2)\n",
    "plt.axhline(0.22,color='k',alpha=0.3)\n",
    "plt.axhline(0.8,color='k',alpha=0.3)\n",
    "\n",
    "plt.tick_params(labelsize=16)\n",
    "plt.ylabel('Probability',fontsize=26)\n",
    "plt.xlabel('Model Prediction Probability',fontsize=26)\n",
    "plt.title('Cumulative Distribution of Model PRediction Probability',fontsize = 30)\n",
    "plt.savefig('conclusion.png')"
   ]
  },
  {
   "cell_type": "markdown",
   "metadata": {},
   "source": [
    "# Conclusion"
   ]
  },
  {
   "cell_type": "markdown",
   "metadata": {},
   "source": [
    "The above graph describes that if we provide the above mentioned features to the model and the probability of getting 1 is less than 0.4, then there is a 80 % chance for the model to predict the good loan.\n",
    "\n",
    "On the other hand, if the probability of getting 1 is more than 0.4, there is a 80 % chance to get bad_loan status."
   ]
  }
 ],
 "metadata": {
  "kernelspec": {
   "display_name": "Python 3",
   "language": "python",
   "name": "python3"
  },
  "language_info": {
   "codemirror_mode": {
    "name": "ipython",
    "version": 3
   },
   "file_extension": ".py",
   "mimetype": "text/x-python",
   "name": "python",
   "nbconvert_exporter": "python",
   "pygments_lexer": "ipython3",
   "version": "3.7.1"
  }
 },
 "nbformat": 4,
 "nbformat_minor": 4
}
